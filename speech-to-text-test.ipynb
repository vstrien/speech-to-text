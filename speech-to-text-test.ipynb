{
 "cells": [
  {
   "cell_type": "code",
   "execution_count": 1,
   "metadata": {},
   "outputs": [],
   "source": [
    "import openai\n",
    "from pydub import AudioSegment\n",
    "import os\n",
    "import json\n"
   ]
  },
  {
   "cell_type": "code",
   "execution_count": 2,
   "metadata": {},
   "outputs": [],
   "source": [
    "\n",
    "total_audio = AudioSegment.from_mp3(\"tracey-value-investor.mp3\")\n",
    "\n"
   ]
  },
  {
   "cell_type": "code",
   "execution_count": 3,
   "metadata": {},
   "outputs": [],
   "source": [
    "# Break the audio in 10 minute segments\n",
    "ten_min = 10 * 60 * 1000\n",
    "audio_segments = []\n",
    "for i in range(0, len(total_audio), ten_min):\n",
    "    audio_segments.append(total_audio[i:i+ten_min])\n"
   ]
  },
  {
   "cell_type": "code",
   "execution_count": 4,
   "metadata": {},
   "outputs": [],
   "source": [
    "\n",
    "# Save the segments to disk\n",
    "for i, segment in enumerate(audio_segments):\n",
    "    segment.export(f\"tracey-value-investor-{i}.mp3\", format=\"mp3\")"
   ]
  },
  {
   "cell_type": "code",
   "execution_count": 6,
   "metadata": {},
   "outputs": [],
   "source": [
    "\n",
    "# Transcribe everything\n",
    "for i, _ in enumerate(audio_segments):\n",
    "    with open(f\"tracey-value-investor-{i}.mp3\", \"rb\") as audio_file:\n",
    "        with open(f\"tracey-value-investor-{i}-output.txt\", \"w\") as f:\n",
    "            result = json.loads(str(openai.Audio.transcribe(\"whisper-1\", audio_file)))[\"text\"]\n",
    "            f.write(result)\n"
   ]
  },
  {
   "cell_type": "code",
   "execution_count": 8,
   "metadata": {},
   "outputs": [],
   "source": [
    "\n",
    "# Combine all the transcriptions\n",
    "with open(\"tracey-value-investor-output.txt\", \"w\") as f:\n",
    "    for i, _ in enumerate(audio_segments):\n",
    "        with open(f\"tracey-value-investor-{i}-output.txt\", \"r\") as g:\n",
    "            f.write(g.read())\n"
   ]
  },
  {
   "cell_type": "code",
   "execution_count": 10,
   "metadata": {},
   "outputs": [],
   "source": [
    "\n",
    "# Delete mp3 segments\n",
    "for i, _ in enumerate(audio_segments):\n",
    "    os.remove(f\"tracey-value-investor-{i}.mp3\")\n",
    "    os.remove(f\"tracey-value-investor-{i}-output.txt\")"
   ]
  }
 ],
 "metadata": {
  "kernelspec": {
   "display_name": ".venv",
   "language": "python",
   "name": "python3"
  },
  "language_info": {
   "codemirror_mode": {
    "name": "ipython",
    "version": 3
   },
   "file_extension": ".py",
   "mimetype": "text/x-python",
   "name": "python",
   "nbconvert_exporter": "python",
   "pygments_lexer": "ipython3",
   "version": "3.11.5"
  }
 },
 "nbformat": 4,
 "nbformat_minor": 2
}
